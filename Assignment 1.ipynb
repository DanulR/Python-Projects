{
 "cells": [
  {
   "cell_type": "code",
   "execution_count": 6,
   "id": "9dbc8e4c",
   "metadata": {},
   "outputs": [],
   "source": [
    "#Problem statement 1"
   ]
  },
  {
   "cell_type": "code",
   "execution_count": 11,
   "id": "f1bbb0d7",
   "metadata": {},
   "outputs": [],
   "source": [
    "import numpy as np"
   ]
  },
  {
   "cell_type": "code",
   "execution_count": 8,
   "id": "a0714fce",
   "metadata": {},
   "outputs": [
    {
     "name": "stdout",
     "output_type": "stream",
     "text": [
      "Enter value M : 5\n",
      "Enter value N : 3\n",
      "Enter value A : 2\n"
     ]
    }
   ],
   "source": [
    "M = int(input(\"Enter value M : \"))\n",
    "N = int(input(\"Enter value N : \"))\n",
    "A = int(input(\"Enter value A : \"))"
   ]
  },
  {
   "cell_type": "code",
   "execution_count": 9,
   "id": "b3623e70",
   "metadata": {},
   "outputs": [],
   "source": [
    "First_Array_Size = M * N"
   ]
  },
  {
   "cell_type": "code",
   "execution_count": 10,
   "id": "50fbb0dd",
   "metadata": {},
   "outputs": [
    {
     "data": {
      "text/plain": [
       "15"
      ]
     },
     "execution_count": 10,
     "metadata": {},
     "output_type": "execute_result"
    }
   ],
   "source": [
    "First_Array_Size"
   ]
  },
  {
   "cell_type": "code",
   "execution_count": 11,
   "id": "61e610de",
   "metadata": {},
   "outputs": [],
   "source": [
    "First_Array = np.arange(First_Array_Size).reshape(M,N)"
   ]
  },
  {
   "cell_type": "code",
   "execution_count": 12,
   "id": "6d042cf4",
   "metadata": {},
   "outputs": [
    {
     "data": {
      "text/plain": [
       "array([[ 0,  1,  2],\n",
       "       [ 3,  4,  5],\n",
       "       [ 6,  7,  8],\n",
       "       [ 9, 10, 11],\n",
       "       [12, 13, 14]])"
      ]
     },
     "execution_count": 12,
     "metadata": {},
     "output_type": "execute_result"
    }
   ],
   "source": [
    "First_Array"
   ]
  },
  {
   "cell_type": "code",
   "execution_count": 13,
   "id": "c1d7fed2",
   "metadata": {},
   "outputs": [],
   "source": [
    "Second_Array_Size = N * A"
   ]
  },
  {
   "cell_type": "code",
   "execution_count": 14,
   "id": "bdd04c0f",
   "metadata": {},
   "outputs": [
    {
     "data": {
      "text/plain": [
       "6"
      ]
     },
     "execution_count": 14,
     "metadata": {},
     "output_type": "execute_result"
    }
   ],
   "source": [
    "Second_Array_Size "
   ]
  },
  {
   "cell_type": "code",
   "execution_count": 15,
   "id": "6ea21148",
   "metadata": {},
   "outputs": [],
   "source": [
    "Second_Array = np.arange(Second_Array_Size).reshape(N,A)"
   ]
  },
  {
   "cell_type": "code",
   "execution_count": 16,
   "id": "828c942f",
   "metadata": {},
   "outputs": [
    {
     "data": {
      "text/plain": [
       "array([[0, 1],\n",
       "       [2, 3],\n",
       "       [4, 5]])"
      ]
     },
     "execution_count": 16,
     "metadata": {},
     "output_type": "execute_result"
    }
   ],
   "source": [
    "Second_Array"
   ]
  },
  {
   "cell_type": "code",
   "execution_count": 17,
   "id": "24acca19",
   "metadata": {},
   "outputs": [],
   "source": [
    "dot_prod = np.dot(First_Array,Second_Array)"
   ]
  },
  {
   "cell_type": "code",
   "execution_count": 18,
   "id": "37c308d6",
   "metadata": {},
   "outputs": [
    {
     "data": {
      "text/plain": [
       "array([[ 10,  13],\n",
       "       [ 28,  40],\n",
       "       [ 46,  67],\n",
       "       [ 64,  94],\n",
       "       [ 82, 121]])"
      ]
     },
     "execution_count": 18,
     "metadata": {},
     "output_type": "execute_result"
    }
   ],
   "source": [
    "dot_prod"
   ]
  },
  {
   "cell_type": "code",
   "execution_count": 19,
   "id": "b9e43df9",
   "metadata": {},
   "outputs": [],
   "source": [
    "#Problem Statement 2\n"
   ]
  },
  {
   "cell_type": "code",
   "execution_count": 35,
   "id": "7f3910c2",
   "metadata": {},
   "outputs": [],
   "source": [
    "Arr = np.array(['Python', 'PHP', 'JS', 'Examples', 'html5','5'])\n"
   ]
  },
  {
   "cell_type": "code",
   "execution_count": 36,
   "id": "1856b20a",
   "metadata": {},
   "outputs": [
    {
     "data": {
      "text/plain": [
       "array([False, False, False, False, False,  True])"
      ]
     },
     "execution_count": 36,
     "metadata": {},
     "output_type": "execute_result"
    }
   ],
   "source": [
    "np.char.isdigit(Arr)"
   ]
  },
  {
   "cell_type": "code",
   "execution_count": 37,
   "id": "a754b2ac",
   "metadata": {},
   "outputs": [
    {
     "data": {
      "text/plain": [
       "array([False, False, False, False,  True, False])"
      ]
     },
     "execution_count": 37,
     "metadata": {},
     "output_type": "execute_result"
    }
   ],
   "source": [
    "np.char.islower(Arr)"
   ]
  },
  {
   "cell_type": "code",
   "execution_count": 38,
   "id": "8c2a99d8",
   "metadata": {},
   "outputs": [
    {
     "data": {
      "text/plain": [
       "array([False,  True,  True, False, False, False])"
      ]
     },
     "execution_count": 38,
     "metadata": {},
     "output_type": "execute_result"
    }
   ],
   "source": [
    "np.char.isupper(Arr)"
   ]
  },
  {
   "cell_type": "code",
   "execution_count": 1,
   "id": "158b570f",
   "metadata": {},
   "outputs": [],
   "source": [
    "# Problem Statement 3"
   ]
  },
  {
   "cell_type": "code",
   "execution_count": 32,
   "id": "e37ed050",
   "metadata": {},
   "outputs": [
    {
     "name": "stdout",
     "output_type": "stream",
     "text": [
      "Enter two space seperated values: 7 9\n"
     ]
    }
   ],
   "source": [
    "inp = input(\"Enter two space seperated values: \")\n",
    "X,Y = inp.split()\n",
    "X = int(X)\n",
    "Y = int(Y)"
   ]
  },
  {
   "cell_type": "code",
   "execution_count": 33,
   "id": "24d5f755",
   "metadata": {},
   "outputs": [
    {
     "data": {
      "text/plain": [
       "112"
      ]
     },
     "execution_count": 33,
     "metadata": {},
     "output_type": "execute_result"
    }
   ],
   "source": [
    "End = X * 16\n",
    "End"
   ]
  },
  {
   "cell_type": "code",
   "execution_count": 34,
   "id": "18b580a3",
   "metadata": {},
   "outputs": [
    {
     "data": {
      "text/plain": [
       "[1, 8, 15, 22, 29, 36, 43, 50, 57, 64, 71, 78, 85, 92, 99, 106]"
      ]
     },
     "execution_count": 34,
     "metadata": {},
     "output_type": "execute_result"
    }
   ],
   "source": [
    "lst1 = list(range(1,End,X))\n",
    "lst1"
   ]
  },
  {
   "cell_type": "code",
   "execution_count": 35,
   "id": "92952890",
   "metadata": {},
   "outputs": [
    {
     "data": {
      "text/plain": [
       "144"
      ]
     },
     "execution_count": 35,
     "metadata": {},
     "output_type": "execute_result"
    }
   ],
   "source": [
    "End_Y = Y * 16\n",
    "End_Y "
   ]
  },
  {
   "cell_type": "code",
   "execution_count": 36,
   "id": "9cb2727e",
   "metadata": {},
   "outputs": [
    {
     "data": {
      "text/plain": [
       "[1, 10, 19, 28, 37, 46, 55, 64, 73, 82, 91, 100, 109, 118, 127, 136]"
      ]
     },
     "execution_count": 36,
     "metadata": {},
     "output_type": "execute_result"
    }
   ],
   "source": [
    "lst2 = list(range(1,End_Y,Y))\n",
    "lst2"
   ]
  },
  {
   "cell_type": "code",
   "execution_count": 37,
   "id": "25fde58a",
   "metadata": {},
   "outputs": [],
   "source": [
    "np1 = np.array(lst1)"
   ]
  },
  {
   "cell_type": "code",
   "execution_count": 38,
   "id": "ec1eff3e",
   "metadata": {},
   "outputs": [
    {
     "data": {
      "text/plain": [
       "numpy.ndarray"
      ]
     },
     "execution_count": 38,
     "metadata": {},
     "output_type": "execute_result"
    }
   ],
   "source": [
    "type(np1)"
   ]
  },
  {
   "cell_type": "code",
   "execution_count": 39,
   "id": "c89f36e2",
   "metadata": {},
   "outputs": [],
   "source": [
    "np2 = np.array(lst2)"
   ]
  },
  {
   "cell_type": "code",
   "execution_count": 40,
   "id": "c9c20acf",
   "metadata": {},
   "outputs": [
    {
     "data": {
      "text/plain": [
       "numpy.ndarray"
      ]
     },
     "execution_count": 40,
     "metadata": {},
     "output_type": "execute_result"
    }
   ],
   "source": [
    "type(np2)"
   ]
  },
  {
   "cell_type": "code",
   "execution_count": 41,
   "id": "8f240a9c",
   "metadata": {},
   "outputs": [],
   "source": [
    "np1 = np1.reshape(4,4)"
   ]
  },
  {
   "cell_type": "code",
   "execution_count": 42,
   "id": "28e5f485",
   "metadata": {},
   "outputs": [
    {
     "data": {
      "text/plain": [
       "array([[  1,   8,  15,  22],\n",
       "       [ 29,  36,  43,  50],\n",
       "       [ 57,  64,  71,  78],\n",
       "       [ 85,  92,  99, 106]])"
      ]
     },
     "execution_count": 42,
     "metadata": {},
     "output_type": "execute_result"
    }
   ],
   "source": [
    "np1"
   ]
  },
  {
   "cell_type": "code",
   "execution_count": 43,
   "id": "b5574564",
   "metadata": {},
   "outputs": [],
   "source": [
    "np2 = np2.reshape(4,4)"
   ]
  },
  {
   "cell_type": "code",
   "execution_count": 44,
   "id": "58ecc83f",
   "metadata": {},
   "outputs": [
    {
     "data": {
      "text/plain": [
       "array([[  1,  10,  19,  28],\n",
       "       [ 37,  46,  55,  64],\n",
       "       [ 73,  82,  91, 100],\n",
       "       [109, 118, 127, 136]])"
      ]
     },
     "execution_count": 44,
     "metadata": {},
     "output_type": "execute_result"
    }
   ],
   "source": [
    "np2"
   ]
  },
  {
   "cell_type": "code",
   "execution_count": 45,
   "id": "182e71ba",
   "metadata": {},
   "outputs": [
    {
     "data": {
      "text/plain": [
       "array([[  0,  -2,  -4,  -6],\n",
       "       [ -8, -10, -12, -14],\n",
       "       [-16, -18, -20, -22],\n",
       "       [-24, -26, -28, -30]])"
      ]
     },
     "execution_count": 45,
     "metadata": {},
     "output_type": "execute_result"
    }
   ],
   "source": [
    "np3 = np1 - np2\n",
    "np3"
   ]
  },
  {
   "cell_type": "code",
   "execution_count": 46,
   "id": "59c4b714",
   "metadata": {},
   "outputs": [
    {
     "data": {
      "text/plain": [
       "array([  0,  -2,  -4,  -6,  -8, -10, -12, -14, -16, -18, -20, -22, -24,\n",
       "       -26, -28, -30])"
      ]
     },
     "execution_count": 46,
     "metadata": {},
     "output_type": "execute_result"
    }
   ],
   "source": [
    "np3 = np3.reshape(16)\n",
    "np3"
   ]
  },
  {
   "cell_type": "code",
   "execution_count": null,
   "id": "d154cae3",
   "metadata": {},
   "outputs": [],
   "source": [
    "# problem statement 4"
   ]
  },
  {
   "cell_type": "code",
   "execution_count": 50,
   "id": "e5b6b579",
   "metadata": {},
   "outputs": [
    {
     "name": "stdout",
     "output_type": "stream",
     "text": [
      "Enter value: 23\n",
      "Enter value: 56\n",
      "Enter value: 87\n",
      "Enter value: 3\n",
      "Enter value: 6\n",
      "Enter value: 96\n",
      "Enter value: 4\n",
      "Enter value: 6\n",
      "Enter value: 78\n"
     ]
    }
   ],
   "source": [
    "lst1 = []\n",
    "\n",
    "for i in range(0,9):\n",
    "    x = input(\"Enter value: \")\n",
    "    x = int(x)\n",
    "    lst1.append(x)\n"
   ]
  },
  {
   "cell_type": "code",
   "execution_count": 52,
   "id": "b7fe3eeb",
   "metadata": {},
   "outputs": [],
   "source": [
    "np1 = np.array(lst1)"
   ]
  },
  {
   "cell_type": "code",
   "execution_count": 53,
   "id": "fc17b760",
   "metadata": {},
   "outputs": [
    {
     "data": {
      "text/plain": [
       "array([23, 56, 87,  3,  6, 96,  4,  6, 78])"
      ]
     },
     "execution_count": 53,
     "metadata": {},
     "output_type": "execute_result"
    }
   ],
   "source": [
    "np1"
   ]
  },
  {
   "cell_type": "code",
   "execution_count": 54,
   "id": "c32d6eb9",
   "metadata": {},
   "outputs": [
    {
     "name": "stdout",
     "output_type": "stream",
     "text": [
      "Enter value: 12\n",
      "Enter value: 34\n",
      "Enter value: 54\n",
      "Enter value: 7\n",
      "Enter value: 2\n",
      "Enter value: 54\n",
      "Enter value: 6\n",
      "Enter value: 2\n",
      "Enter value: 78\n"
     ]
    }
   ],
   "source": [
    "lst2 = []\n",
    "\n",
    "for i in range(0,9):\n",
    "    x = input(\"Enter value: \")\n",
    "    x = int(x)\n",
    "    lst2.append(x)"
   ]
  },
  {
   "cell_type": "code",
   "execution_count": 55,
   "id": "13bf62bc",
   "metadata": {},
   "outputs": [],
   "source": [
    "np2 = np.array(lst2)"
   ]
  },
  {
   "cell_type": "code",
   "execution_count": 56,
   "id": "c4a0fe95",
   "metadata": {},
   "outputs": [
    {
     "data": {
      "text/plain": [
       "array([12, 34, 54,  7,  2, 54,  6,  2, 78])"
      ]
     },
     "execution_count": 56,
     "metadata": {},
     "output_type": "execute_result"
    }
   ],
   "source": [
    "np2"
   ]
  },
  {
   "cell_type": "code",
   "execution_count": 59,
   "id": "4072d225",
   "metadata": {},
   "outputs": [],
   "source": [
    "np1 = np1.reshape(3,3)\n",
    "np2 = np2.reshape(3,3)\n"
   ]
  },
  {
   "cell_type": "code",
   "execution_count": 60,
   "id": "9346bc4f",
   "metadata": {},
   "outputs": [],
   "source": [
    "np3 = np1 - np2"
   ]
  },
  {
   "cell_type": "code",
   "execution_count": 61,
   "id": "9e2987fe",
   "metadata": {},
   "outputs": [
    {
     "data": {
      "text/plain": [
       "array([[11, 22, 33],\n",
       "       [-4,  4, 42],\n",
       "       [-2,  4,  0]])"
      ]
     },
     "execution_count": 61,
     "metadata": {},
     "output_type": "execute_result"
    }
   ],
   "source": [
    "np3"
   ]
  },
  {
   "cell_type": "code",
   "execution_count": null,
   "id": "7018e194",
   "metadata": {},
   "outputs": [],
   "source": []
  }
 ],
 "metadata": {
  "kernelspec": {
   "display_name": "Python 3 (ipykernel)",
   "language": "python",
   "name": "python3"
  },
  "language_info": {
   "codemirror_mode": {
    "name": "ipython",
    "version": 3
   },
   "file_extension": ".py",
   "mimetype": "text/x-python",
   "name": "python",
   "nbconvert_exporter": "python",
   "pygments_lexer": "ipython3",
   "version": "3.10.9"
  }
 },
 "nbformat": 4,
 "nbformat_minor": 5
}
